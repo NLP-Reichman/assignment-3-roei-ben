{
 "cells": [
  {
   "cell_type": "markdown",
   "metadata": {
    "id": "k-WJBimYDLJS"
   },
   "source": [
    "# Natural Language Processing\n",
    "![](https://i.imgur.com/qkg2E2D.png)\n",
    "\n",
    "## Assignment 003 - NER Tagger\n",
    "\n",
    "> Notebook by:\n",
    "> - NLP Course Staff\n",
    "\n",
    "## Revision History\n",
    "\n",
    "| Version | Date       | User        | Content / Changes                                                   |\n",
    "|---------|------------|-------------|---------------------------------------------------------------------|\n",
    "| 0.1.000 | 21/05/2024 | course staff| First version                                                       |\n",
    "| 0.1.001 | 23/05/2024 | course staff| Updated instructions for `Vocab` class to allow flexible special tokens definition |"
   ]
  },
  {
   "cell_type": "markdown",
   "metadata": {
    "id": "Z-fCqGh9ybgm"
   },
   "source": [
    "## Overview\n",
    "In this assignment, you will build a complete training and testing pipeline for a neural sequential tagger for named entities using LSTM.\n",
    "\n",
    "## Dataset\n",
    "You will work with the ReCoNLL 2003 dataset, a corrected version of the [CoNLL 2003 dataset](https://www.clips.uantwerpen.be/conll2003/ner/):\n",
    "\n",
    "**Click on those links so you have access to the data!**\n",
    "- [Train data](https://drive.google.com/file/d/1CqEGoLPVKau3gvVrdG6ORyfOEr1FSZGf/view?usp=sharing)\n",
    "\n",
    "- [Dev data](https://drive.google.com/file/d/1rdUida-j3OXcwftITBlgOh8nURhAYUDw/view?usp=sharing)\n",
    "\n",
    "- [Test data](https://drive.google.com/file/d/137Ht40OfflcsE6BIYshHbT5b2iIJVaDx/view?usp=sharing)\n",
    "\n",
    "As you will see, the annotated texts are labeled according to the `IOB` annotation scheme (more on this below), for 3 entity types: Person, Organization, Location.\n",
    "\n",
    "## Your Implementation\n",
    "\n",
    "Please create a local copy of this template Colab's Notebook:\n",
    "\n",
    "[![Open In Colab](https://colab.research.google.com/assets/colab-badge.svg)](https://colab.research.google.com/drive/1VVtBtlwZZnxQWdluNVkDgTMvDKVaqDOM?usp=sharing)\n",
    "\n",
    "The assignment's instructions are there; follow the notebook.\n",
    "\n",
    "## Submission\n",
    "- **Notebook Link**: Add the URL to your assignment's notebook in the `notebook_link.txt` file, following the format provided in the example.\n",
    "- **Access**: Ensure the link has edit permissions enabled to allow modifications if needed.\n",
    "- **Deadline**: <font color='green'>06/06/2024</font>.\n",
    "- **Platform**: Continue using GitHub for submissions. Push your project to the team repository and monitor the test results under the actions section.\n",
    "\n",
    "Good Luck 🤗\n"
   ]
  },
  {
   "cell_type": "markdown",
   "metadata": {
    "id": "VOy8IghquR6x"
   },
   "source": [
    "<!-- ## NER schemes:  \n",
    "\n",
    "> `IO`: is the simplest scheme that can be applied to this task. In this scheme, each token from the dataset is assigned one of two tags: an inside tag (`I`) and an outside tag (`O`). The `I` tag is for named entities, whereas the `O` tag is for normal words. This scheme has a limitation, as it cannot correctly encode consecutive entities of the same type.\n",
    "\n",
    "> `IOB`: This scheme is also referred to in the literature as BIO and has been adopted by the Conference on Computational Natural Language Learning (CoNLL) [1]. It assigns a tag to each word in the text, determining whether it is the beginning (`B`) of a known named entity, inside (`I`) it, or outside (`O`) of any known named entities.\n",
    "\n",
    "> `IOE`: This scheme works nearly identically to `IOB`, but it indicates the end of the entity (`E` tag) instead of its beginning.\n",
    "\n",
    "> `IOBES`: An alternative to the IOB scheme is `IOBES`, which increases the amount of information related to the boundaries of named entities. In addition to tagging words at the beginning (`B`), inside (`I`), end (`E`), and outside (`O`) of a named entity. It also labels single-token entities with the tag `S`.\n",
    "\n",
    "> `BI`: This scheme tags entities in a similar method to `IOB`. Additionally, it labels the beginning of non-entity words with the tag B-O and the rest as I-O.\n",
    "\n",
    "> `IE`: This scheme works exactly like `IOE` with the distinction that it labels the end of non-entity words with the tag `E-O` and the rest as `I-O`.\n",
    "\n",
    "> `BIES`: This scheme encodes the entities similar to `IOBES`. In addition, it also encodes the non-entity words using the same method. It uses `B-O` to tag the beginning of non-entity words, `I-O` to tag the inside of non-entity words, and `S-O` for single non-entity tokens that exist between two entities. -->\n",
    "\n",
    "\n",
    "## NER Schemes\n",
    "\n",
    "### IO\n",
    "- **Description**: The simplest scheme for named entity recognition (NER).\n",
    "- **Tags**:\n",
    "  - `I`: Inside a named entity.\n",
    "  - `O`: Outside any named entity.\n",
    "- **Limitation**: Cannot correctly encode consecutive entities of the same type.\n",
    "\n",
    "### IOB (BIO)\n",
    "- **Description**: Adopted by the Conference on Computational Natural Language Learning (CoNLL).\n",
    "- **Tags**:\n",
    "  - `B`: Beginning of a named entity.\n",
    "  - `I`: Inside a named entity.\n",
    "  - `O`: Outside any named entity.\n",
    "- **Advantage**: Can encode the boundaries of consecutive entities.\n",
    "\n",
    "### IOE\n",
    "- **Description**: Similar to IOB, but indicates the end of an entity.\n",
    "- **Tags**:\n",
    "  - `I`: Inside a named entity.\n",
    "  - `O`: Outside any named entity.\n",
    "  - `E`: End of a named entity.\n",
    "- **Advantage**: Focuses on the end boundary of entities.\n",
    "\n",
    "### IOBES\n",
    "- **Description**: An extension of IOB with additional boundary information.\n",
    "- **Tags**:\n",
    "  - `B`: Beginning of a named entity.\n",
    "  - `I`: Inside a named entity.\n",
    "  - `O`: Outside any named entity.\n",
    "  - `E`: End of a named entity.\n",
    "  - `S`: Single-token named entity.\n",
    "- **Advantage**: Provides more detailed boundary information for named entities.\n",
    "\n",
    "### BI\n",
    "- **Description**: Tags entities similarly to IOB and labels the beginning of non-entity words.\n",
    "- **Tags**:\n",
    "  - `B`: Beginning of a named entity.\n",
    "  - `I`: Inside a named entity.\n",
    "  - `B-O`: Beginning of a non-entity word.\n",
    "  - `I-O`: Inside a non-entity word.\n",
    "- **Advantage**: Distinguishes the beginning of non-entity sequences.\n",
    "\n",
    "### IE\n",
    "- **Description**: Similar to IOE but for non-entity words.\n",
    "- **Tags**:\n",
    "  - `I`: Inside a named entity.\n",
    "  - `O`: Outside any named entity.\n",
    "  - `E`: End of a named entity.\n",
    "  - `E-O`: End of a non-entity word.\n",
    "  - `I-O`: Inside a non-entity word.\n",
    "- **Advantage**: Highlights the end of non-entity sequences.\n",
    "\n",
    "### BIES\n",
    "- **Description**: Encodes both entities and non-entity words using the IOBES method.\n",
    "- **Tags**:\n",
    "  - `B`: Beginning of a named entity.\n",
    "  - `I`: Inside a named entity.\n",
    "  - `O`: Outside any named entity.\n",
    "  - `E`: End of a named entity.\n",
    "  - `S`: Single-token named entity.\n",
    "  - `B-O`: Beginning of a non-entity word.\n",
    "  - `I-O`: Inside a non-entity word.\n",
    "  - `S-O`: Single non-entity token.\n",
    "- **Advantage**: Comprehensive encoding for both entities and non-entities.\n",
    "\n",
    "\n"
   ]
  },
  {
   "cell_type": "code",
   "metadata": {
    "id": "bRwONXCzi28v",
    "ExecuteTime": {
     "end_time": "2024-06-11T12:19:10.781205Z",
     "start_time": "2024-06-11T12:19:06.717005Z"
    }
   },
   "source": [
    "!mkdir data\n",
    "# Fetch data\n",
    "# train_link = 'https://drive.google.com/file/d/1CqEGoLPVKau3gvVrdG6ORyfOEr1FSZGf/view?usp=sharing'\n",
    "# dev_link   = 'https://drive.google.com/file/d/1rdUida-j3OXcwftITBlgOh8nURhAYUDw/view?usp=sharing'\n",
    "# test_link  = 'https://drive.google.com/file/d/137Ht40OfflcsE6BIYshHbT5b2iIJVaDx/view?usp=sharing'\n",
    "\n",
    "# !wget -q --no-check-certificate 'https://docs.google.com/uc?export=download&id=1CqEGoLPVKau3gvVrdG6ORyfOEr1FSZGf' -O data/train.txt\n",
    "# !wget -q --no-check-certificate 'https://docs.google.com/uc?export=download&id=1rdUida-j3OXcwftITBlgOh8nURhAYUDw' -O data/dev.txt\n",
    "# !wget -q --no-check-certificate 'https://docs.google.com/uc?export=download&id=137Ht40OfflcsE6BIYshHbT5b2iIJVaDx' -O data/test.txt\n",
    "\n",
    "# # mac version:\n",
    "!curl -L -o data/train.txt 'https://drive.google.com/uc?export=download&id=1CqEGoLPVKau3gvVrdG6ORyfOEr1FSZGf'\n",
    "!curl -L -o data/dev.txt 'https://drive.google.com/uc?export=download&id=1rdUida-j3OXcwftITBlgOh8nURhAYUDw'\n",
    "!curl -L -o data/test.txt 'https://drive.google.com/uc?export=download&id=137Ht40OfflcsE6BIYshHbT5b2iIJVaDx'\n",
    "\n"
   ],
   "outputs": [
    {
     "name": "stdout",
     "output_type": "stream",
     "text": [
      "mkdir: data: File exists\r\n",
      "  % Total    % Received % Xferd  Average Speed   Time    Time     Time  Current\r\n",
      "                                 Dload  Upload   Total   Spent    Left  Speed\r\n",
      "  0     0    0     0    0     0      0      0 --:--:-- --:--:-- --:--:--     0:--:-- --:--:-- --:--:--     0\r\n",
      "100  257k  100  257k    0     0   200k      0  0:00:01  0:00:01 --:--:--  200k\r\n",
      "  % Total    % Received % Xferd  Average Speed   Time    Time     Time  Current\r\n",
      "                                 Dload  Upload   Total   Spent    Left  Speed\r\n",
      "  0     0    0     0    0     0      0      0 --:--:-- --:--:-- --:--:--     0\r\n",
      "100 36633  100 36633    0     0  32671      0  0:00:01  0:00:01 --:--:--  362k\r\n",
      "  % Total    % Received % Xferd  Average Speed   Time    Time     Time  Current\r\n",
      "                                 Dload  Upload   Total   Spent    Left  Speed\r\n",
      "  0     0    0     0    0     0      0      0 --:--:-- --:--:-- --:--:--     0\r\n",
      "100 75891  100 75891    0     0  70768      0  0:00:01  0:00:01 --:--:--  481k\r\n"
     ]
    }
   ],
   "execution_count": 23
  },
  {
   "cell_type": "code",
   "metadata": {
    "colab": {
     "base_uri": "https://localhost:8080/"
    },
    "id": "5QNUSyEwvWqn",
    "outputId": "ba8084fc-b4df-48e1-d4e0-5688ad46f83d",
    "ExecuteTime": {
     "end_time": "2024-06-11T12:19:11.608875Z",
     "start_time": "2024-06-11T12:19:10.782987Z"
    }
   },
   "source": [
    "# Any additional needed libraries\n",
    "!pip install --q"
   ],
   "outputs": [
    {
     "name": "stdout",
     "output_type": "stream",
     "text": [
      "\u001B[31mERROR: You must give at least one requirement to install (see \"pip help install\")\u001B[0m\u001B[31m\r\n",
      "\u001B[0m"
     ]
    }
   ],
   "execution_count": 24
  },
  {
   "cell_type": "code",
   "metadata": {
    "id": "3enPCGBF8FlX",
    "ExecuteTime": {
     "end_time": "2024-06-11T12:19:11.615706Z",
     "start_time": "2024-06-11T12:19:11.609950Z"
    }
   },
   "source": [
    "# Standard Library Imports\n",
    "import os\n",
    "import copy\n",
    "import random\n",
    "import warnings\n",
    "from collections import defaultdict\n",
    "from typing import Optional\n",
    "\n",
    "# ML\n",
    "import numpy as np\n",
    "import scipy as sp\n",
    "import pandas as pd\n",
    "\n",
    "# Visual\n",
    "import matplotlib\n",
    "import seaborn as sns\n",
    "from tqdm.notebook import tqdm\n",
    "from tabulate import tabulate\n",
    "import matplotlib.pyplot as plt\n",
    "from IPython.display import display\n",
    "\n",
    "# DL\n",
    "import torch as th\n",
    "import torch.nn as nn\n",
    "from torch.optim import Adam\n",
    "from torch.utils.data import DataLoader, Dataset\n",
    "\n",
    "# Metrics\n",
    "from sklearn import metrics\n",
    "from sklearn.metrics import accuracy_score , roc_auc_score, classification_report, confusion_matrix, precision_recall_fscore_support\n"
   ],
   "outputs": [],
   "execution_count": 25
  },
  {
   "cell_type": "code",
   "metadata": {
    "id": "ZUM4WJ9PwF0x",
    "ExecuteTime": {
     "end_time": "2024-06-11T12:19:11.625464Z",
     "start_time": "2024-06-11T12:19:11.618411Z"
    }
   },
   "source": [
    "SEED = 42\n",
    "# Set the random seed for Python\n",
    "random.seed(SEED)\n",
    "\n",
    "# Set the random seed for numpy\n",
    "np.random.seed(SEED)\n",
    "\n",
    "# Set the random seed for pytorch\n",
    "th.manual_seed(SEED)\n",
    "\n",
    "# If using CUDA (for GPU operations)\n",
    "th.cuda.manual_seed(SEED)\n",
    "\n",
    "# Set up the device\n",
    "# TO DO ----------------------------------------------------------------------\n",
    "# DEVICE = \"cuda\" if th.cuda.is_available() else (\"mps\" if th.backends.mps.is_available() else \"cpu\")\n",
    "# TO DO ----------------------------------------------------------------------\n",
    "# if not th.backends.mps.is_available():\n",
    "    # assert DEVICE == \"cuda\"\n",
    "\n",
    "DEVICE = 'cuda' if th.cuda.is_available() else 'cpu'\n",
    "\n",
    "DataType = list[tuple[list[str],list[str]]]"
   ],
   "outputs": [],
   "execution_count": 26
  },
  {
   "cell_type": "markdown",
   "metadata": {
    "id": "f-1shPaJ0z1B"
   },
   "source": [
    "# Part 1 - Dataset Preparation"
   ]
  },
  {
   "cell_type": "markdown",
   "metadata": {
    "id": "5ul2Y3vuPoV8"
   },
   "source": [
    "## Step 1: Read Data\n",
    "Write a function for reading the data from a single file (of the ones that are provided above).   \n",
    "- The function recieves a filepath\n",
    "- The funtion encodes every sentence individually using a pair of lists, one list contains the words and one list contains the tags.\n",
    "- Each list pair will be added to a general list (data), which will be returned back from the function.\n",
    "\n",
    "Example output:\n",
    "```\n",
    "[\n",
    "  (['At','Trent','Bridge',':'],['O','B-LOC','I-LOC ','O']),\n",
    "  ([...],[...]),\n",
    "  ...\n",
    "]\n",
    "```"
   ]
  },
  {
   "cell_type": "code",
   "metadata": {
    "id": "prgzgtt8Jw4Y",
    "ExecuteTime": {
     "end_time": "2024-06-11T12:19:11.629477Z",
     "start_time": "2024-06-11T12:19:11.626369Z"
    }
   },
   "source": [
    "def read_data(filepath:str) -> DataType:\n",
    "  \"\"\"\n",
    "  Read data from a single file.\n",
    "  The function recieves a filepath\n",
    "  The funtion encodes every sentence using a pair of lists, one list contains the words and one list contains the tags.\n",
    "  :param filepath: path to the file\n",
    "  :return: data as a list of tuples\n",
    "  \"\"\"\n",
    "  data = []\n",
    "  # TO DO ----------------------------------------------------------------------\n",
    "  ## going through every sentence and every word, and prepering the data accordinaly to the requirments.\n",
    "  with open(filepath, 'r') as f:\n",
    "    sentence = []\n",
    "    tags = []\n",
    "    for line in f:\n",
    "      if line.strip() == '':\n",
    "        data.append((sentence, tags))\n",
    "        sentence = []\n",
    "        tags = []\n",
    "      else:\n",
    "        word, tag = line.strip().split(' ')\n",
    "        sentence.append(word)\n",
    "        tags.append(tag)\n",
    "\n",
    "  # TO DO ----------------------------------------------------------------------\n",
    "  return data"
   ],
   "outputs": [],
   "execution_count": 27
  },
  {
   "cell_type": "code",
   "metadata": {
    "id": "yURR0GmX2i8M",
    "ExecuteTime": {
     "end_time": "2024-06-11T12:19:11.647435Z",
     "start_time": "2024-06-11T12:19:11.631798Z"
    }
   },
   "source": [
    "train = read_data(\"data/train.txt\")\n",
    "dev = read_data(\"data/dev.txt\")\n",
    "test = read_data(\"data/test.txt\")"
   ],
   "outputs": [],
   "execution_count": 28
  },
  {
   "cell_type": "markdown",
   "metadata": {
    "id": "IuGwk6OwRWGS"
   },
   "source": [
    "## Step 2: Create Vocab\n",
    "\n",
    "The `Vocab` class will serve as a dictionary that maps words and tags into IDs. Ensure that you include special tokens to handle out-of-vocabulary words and padding.\n",
    "\n",
    "### Your Task\n",
    "1. **Define Special Tokens**: Define special tokens such as `PAD_TOKEN` and `UNK_TOKEN` and assign them unique IDs.\n",
    "2. **Initialize Dictionaries**: Populate the word and tag dictionaries based on the training set.\n",
    "\n",
    "*Note: You may change the `Vocab` class as needed.*"
   ]
  },
  {
   "cell_type": "code",
   "metadata": {
    "id": "6rKIB5o_vQO8",
    "ExecuteTime": {
     "end_time": "2024-06-11T12:19:11.652093Z",
     "start_time": "2024-06-11T12:19:11.648388Z"
    }
   },
   "source": [
    "# Initinize ids for special tokens\n",
    "PAD_TOKEN = 0\n",
    "UNK_TOKEN = 1\n",
    "\n",
    "class Vocab:\n",
    "  def __init__(self, train: DataType):\n",
    "    \"\"\"\n",
    "    Initialize a Vocab instance.\n",
    "    :param train: train data\n",
    "    \"\"\"\n",
    "    self.word2id = {\"__unk__\": UNK_TOKEN, \"__pad__\": PAD_TOKEN}\n",
    "    self.id2word = {UNK_TOKEN: \"__unk__\", PAD_TOKEN: \"__pad__\"}\n",
    "    self.n_words = 2\n",
    "\n",
    "    self.tag2id = {}\n",
    "    self.id2tag = {}\n",
    "    self.n_tags = 0\n",
    "\n",
    "    # Initialize dictionaries based on the training set\n",
    "    # TO DO ----------------------------------------------------------------------\n",
    "    ## itterating through all sentence+tags in the train dataset. ids are increamntaly increased.\n",
    "\n",
    "    for sentence, tags in train:\n",
    "      for word in sentence:\n",
    "        if word not in self.word2id:\n",
    "          self.word2id[word] = self.n_words\n",
    "          self.id2word[self.n_words] = word\n",
    "          self.n_words += 1\n",
    "      for tag in tags:\n",
    "        if tag not in self.tag2id:\n",
    "          self.tag2id[tag] = self.n_tags + 1 \n",
    "          self.id2tag[self.n_tags + 1] = tag\n",
    "          self.n_tags += 1\n",
    "\n",
    "    # TO DO ----------------------------------------------------------------------\n",
    "\n",
    "  def __len__(self):\n",
    "    return self.n_words\n",
    "\n",
    "  def index_tags(self, tags: list[str]) -> list[int]:\n",
    "    \"\"\"\n",
    "    Convert tags to Ids.\n",
    "    :param tags: list of tags\n",
    "    :return: list of Ids\n",
    "    \"\"\"\n",
    "    tag_indexes = [self.tag2id[t] for t in tags]\n",
    "    return tag_indexes\n",
    "\n",
    "  def index_words(self, words: list[str]) -> list[int]:\n",
    "    \"\"\"\n",
    "    Convert words to Ids.\n",
    "    :param words: list of words\n",
    "    :return: list of Ids\n",
    "    \"\"\"\n",
    "    word_indexes = [self.word2id[w] if w in self.word2id else self.word2id[\"__unk__\"] for w in words]\n",
    "    return word_indexes"
   ],
   "outputs": [],
   "execution_count": 29
  },
  {
   "metadata": {
    "ExecuteTime": {
     "end_time": "2024-06-11T12:19:11.658420Z",
     "start_time": "2024-06-11T12:19:11.653454Z"
    }
   },
   "cell_type": "code",
   "source": "vocab = Vocab(train)",
   "outputs": [],
   "execution_count": 30
  },
  {
   "cell_type": "markdown",
   "metadata": {
    "id": "iDKYryfKfNdh"
   },
   "source": [
    "## Step 3: Prepare Data\n",
    "Write a function `prepare_data` that takes one of the [train, dev, test] and the `Vocab` instance, for converting each pair of (words, tags) to a pair of indexes. Additionally, the function should pad the sequences to the maximum length sequence **of the given split**.\n",
    "\n",
    "Note: Vocabulary is based only on the train set.\n",
    "\n",
    "### Your Task\n",
    "1. Convert each pair of (words, tags) to a pair of indexes using the Vocab instance.\n",
    "2. Pad the sequences to the maximum length of the sequences in the given split."
   ]
  },
  {
   "cell_type": "code",
   "metadata": {
    "id": "noIY3zWKvhBd",
    "ExecuteTime": {
     "end_time": "2024-06-11T12:19:11.662724Z",
     "start_time": "2024-06-11T12:19:11.659084Z"
    }
   },
   "source": [
    "def prepare_data(data: DataType, vocab: Vocab):\n",
    "  data_sequences = []\n",
    "  # TO DO ----------------------------------------------------------------------\n",
    "  longest_sentence_len = 0\n",
    "  for sentence, tags in data:\n",
    "    if len(sentence) > longest_sentence_len:\n",
    "      longest_sentence_len = len(sentence)\n",
    "  data_copy = copy.deepcopy(data)\n",
    "  for sentence, tags in data_copy:\n",
    "    word_indexes = vocab.index_words(sentence)\n",
    "    tag_indexes = vocab.index_tags(tags)\n",
    "    word_indexes += [vocab.word2id[vocab.id2word[PAD_TOKEN]]] * (longest_sentence_len - len(word_indexes))\n",
    "    tag_indexes = tag_indexes + [0] * (longest_sentence_len - len(tag_indexes))\n",
    "    data_sequences.append((word_indexes, tag_indexes))\n",
    "  # TO DO ----------------------------------------------------------------------\n",
    "  return data_sequences"
   ],
   "outputs": [],
   "execution_count": 31
  },
  {
   "cell_type": "code",
   "metadata": {
    "id": "Y4mryWuq6rox",
    "ExecuteTime": {
     "end_time": "2024-06-11T12:19:11.701832Z",
     "start_time": "2024-06-11T12:19:11.666438Z"
    }
   },
   "source": [
    "train_sequences = prepare_data(train, vocab)\n",
    "dev_sequences = prepare_data(dev, vocab)\n",
    "test_sequences = prepare_data(test, vocab)"
   ],
   "outputs": [],
   "execution_count": 32
  },
  {
   "cell_type": "markdown",
   "metadata": {
    "id": "aSR-qJnIQGUJ"
   },
   "source": [
    "### Your Task\n",
    "Print the number of OOV in dev and test sets:"
   ]
  },
  {
   "cell_type": "code",
   "metadata": {
    "id": "QaXaJe5wrGhl",
    "ExecuteTime": {
     "end_time": "2024-06-11T12:19:11.709420Z",
     "start_time": "2024-06-11T12:19:11.702737Z"
    }
   },
   "source": [
    "def count_oov(sequences) -> int:\n",
    "  \"\"\"\n",
    "  Count the number of OOV words.\n",
    "  :param sequences: list of sequences\n",
    "  :return: number of OOV words\n",
    "  \"\"\"\n",
    "  oov = 0\n",
    "  # TO DO ----------------------------------------------------------------------\n",
    "  for sentence, tags in sequences:\n",
    "      for word in sentence:\n",
    "        if word == vocab.word2id['__unk__']:\n",
    "            oov += 1\n",
    "\n",
    "  # TO DO ----------------------------------------------------------------------\n",
    "  return -1 if oov == 0 else oov"
   ],
   "outputs": [],
   "execution_count": 33
  },
  {
   "cell_type": "markdown",
   "metadata": {
    "id": "QxC7SyD0EaMF"
   },
   "source": [
    "## Step 4: Dataloaders\n",
    "Create dataloaders for each split in the dataset. They should return the samples as Tensors.\n",
    "\n",
    "**Hint** - you can create a Dataset to support this part.\n",
    "\n",
    "For the training set, use shuffling, and for the dev and test, not."
   ]
  },
  {
   "cell_type": "code",
   "metadata": {
    "id": "vpMZ1C15t4Ra",
    "ExecuteTime": {
     "end_time": "2024-06-11T12:19:11.715391Z",
     "start_time": "2024-06-11T12:19:11.710929Z"
    }
   },
   "source": [
    "def prepare_data_loader(sequences, batch_size: int, train: bool = True):\n",
    "  \"\"\"\n",
    "  Create a dataloader from a list of sequences.\n",
    "  :param sequences: list of sequences\n",
    "  :param batch_size: batch size\n",
    "  :param train: whether to shuffle the dataloader or not\n",
    "  :return: dataloader\n",
    "  \"\"\"\n",
    "  dataloader = None\n",
    "  # TO DO ----------------------------------------------------------------------\n",
    "  class OurDataset(Dataset):\n",
    "    def __init__(self, data):\n",
    "      self.data = data\n",
    "\n",
    "    def __len__(self):\n",
    "      return len(self.data)\n",
    "\n",
    "    def __getitem__(self, idx):\n",
    "      sentence, tags = self.data[idx]\n",
    "      return th.tensor(sentence), th.tensor(tags)\n",
    "\n",
    "  dataloader = DataLoader(OurDataset(sequences), batch_size=batch_size, shuffle=train)\n",
    "  # TO DO ----------------------------------------------------------------------\n",
    "\n",
    "  # TO DO ----------------------------------------------------------------------\n",
    "  return dataloader"
   ],
   "outputs": [],
   "execution_count": 34
  },
  {
   "cell_type": "code",
   "metadata": {
    "id": "YWhK-O-suA93",
    "ExecuteTime": {
     "end_time": "2024-06-11T12:19:11.722613Z",
     "start_time": "2024-06-11T12:19:11.718059Z"
    }
   },
   "source": [
    "BATCH_SIZE = 16\n",
    "dl_train = prepare_data_loader(train_sequences, batch_size=BATCH_SIZE)\n",
    "\n",
    "dl_dev = prepare_data_loader(dev_sequences, batch_size=BATCH_SIZE, train=False)\n",
    "dl_test = prepare_data_loader(test_sequences, batch_size=BATCH_SIZE, train=False)"
   ],
   "outputs": [],
   "execution_count": 35
  },
  {
   "cell_type": "markdown",
   "metadata": {
    "id": "aUsgtdW869JH"
   },
   "source": [
    "# Part 2 - NER Model Training"
   ]
  },
  {
   "cell_type": "markdown",
   "metadata": {
    "id": "UccfiRRtiEet"
   },
   "source": [
    "## Step 1: Implement Model\n",
    "\n",
    "Write NERNet, a PyTorch Module for labeling words with NER tags.\n",
    "\n",
    "> `input_size`: the size of the vocabulary  \n",
    "`embedding_size`: the size of the embeddings  \n",
    "`hidden_size`: the LSTM hidden size  \n",
    "`output_size`: the number tags we are predicting for  \n",
    "`n_layers`: the number of layers we want to use in LSTM  \n",
    "`directions`: could 1 or 2, indicating unidirectional or bidirectional LSTM, respectively  \n",
    "\n",
    "<br>  \n",
    "\n",
    "The input for your forward function should be a single sentence tensor.\n",
    "\n",
    "*Note: the embeddings in this section are learned embedding. That means that you don't need to use pretrained embedding like the one used in the last excersie. You will use them in part 5.*\n",
    "\n",
    "*Note: You may change the NERNet class.*"
   ]
  },
  {
   "cell_type": "code",
   "metadata": {
    "id": "Ke1LyUQNyQaM",
    "ExecuteTime": {
     "end_time": "2024-06-11T12:19:11.729730Z",
     "start_time": "2024-06-11T12:19:11.723392Z"
    }
   },
   "source": [
    "class NERNet(nn.Module):\n",
    "  def __init__(self, input_size: int, embedding_size: int, hidden_size: int, output_size: int, n_layers: int, directions: int):\n",
    "    \"\"\"\n",
    "    Initialize a NERNet instance.\n",
    "    :param input_size: the size of the vocabulary\n",
    "    :param embedding_size: the size of the embeddings\n",
    "    :param hidden_size: the LSTM hidden size\n",
    "    :param output_size: the number tags we are predicting for\n",
    "    :param n_layers: the number of layers we want to use in LSTM\n",
    "    :param directions: could be 1 or 2, indicating unidirectional or bidirectional LSTM, respectively\n",
    "    \"\"\"\n",
    "    super(NERNet, self).__init__()\n",
    "    # TO DO ----------------------------------------------------------------------\n",
    "    self.embedding = nn.Embedding(input_size, embedding_size)\n",
    "    self.lstm = nn.LSTM(\n",
    "      embedding_size,\n",
    "      hidden_size,\n",
    "      n_layers,\n",
    "      bidirectional=(directions==2),\n",
    "      batch_first=False)\n",
    "    self.fc = nn.Linear(hidden_size * directions, output_size)\n",
    "    self.softmax = nn.LogSoftmax(dim=2)\n",
    "\n",
    "\n",
    "    # TO DO ----------------------------------------------------------------------\n",
    "\n",
    "  def forward(self, input_sentence):\n",
    "    # TO DO ----------------------------------------------------------------------\n",
    "    embedded = self.embedding(input_sentence)\n",
    "    lstm_out, _ = self.lstm(embedded)\n",
    "    tag_space = self.fc(lstm_out)\n",
    "    tag_scores = self.softmax(tag_space)\n",
    "    # TO DO ----------------------------------------------------------------------\n",
    "    return tag_scores"
   ],
   "outputs": [],
   "execution_count": 36
  },
  {
   "cell_type": "code",
   "metadata": {
    "colab": {
     "base_uri": "https://localhost:8080/"
    },
    "id": "0nrbHIei19s5",
    "outputId": "e71b3a18-c684-46f6-8f81-ebc4fcaf0dcc",
    "ExecuteTime": {
     "end_time": "2024-06-11T12:19:11.802404Z",
     "start_time": "2024-06-11T12:19:11.730862Z"
    }
   },
   "source": [
    "model = NERNet(vocab.n_words, embedding_size=300, hidden_size=800, output_size=vocab.n_tags, n_layers=2, directions=1)\n",
    "model.to(DEVICE)"
   ],
   "outputs": [
    {
     "data": {
      "text/plain": [
       "NERNet(\n",
       "  (embedding): Embedding(7163, 300)\n",
       "  (lstm): LSTM(300, 800, num_layers=2)\n",
       "  (fc): Linear(in_features=800, out_features=7, bias=True)\n",
       "  (softmax): LogSoftmax(dim=2)\n",
       ")"
      ]
     },
     "execution_count": 37,
     "metadata": {},
     "output_type": "execute_result"
    }
   ],
   "execution_count": 37
  },
  {
   "metadata": {
    "ExecuteTime": {
     "end_time": "2024-06-11T12:19:11.908153Z",
     "start_time": "2024-06-11T12:19:11.803762Z"
    }
   },
   "cell_type": "code",
   "source": [
    "sampler = dl_train.batch_sampler\n",
    "batch = next(iter(dl_train))\n",
    "input_sentences = batch[0].to(DEVICE)\n",
    "tags = batch[1].to(DEVICE)\n",
    "output = model(input_sentences) # (batch_size, seq_len, num_tags)\n",
    "# ecah word in the sentence has a probability for each tag\n",
    "# the tag with the highest probability is the predicted tag\n",
    "# tags look like: (batch_size, seq_len - with the actual tags)\n",
    "# calculate the loss using CrossEntropyLoss:\n",
    "output = output.view(-1, vocab.n_tags) # (batch_size * seq_len, num_tags)\n",
    "tags = tags.view(-1) # (batch_size * seq_len)\n",
    "# loss = nn.CrossEntropyLoss()(output, tags)\n",
    "output.shape, tags.shape"
   ],
   "outputs": [
    {
     "data": {
      "text/plain": [
       "(torch.Size([928, 7]), torch.Size([928]))"
      ]
     },
     "execution_count": 38,
     "metadata": {},
     "output_type": "execute_result"
    }
   ],
   "execution_count": 38
  },
  {
   "cell_type": "markdown",
   "metadata": {
    "id": "dEGSQdeUkTP8"
   },
   "source": [
    "## Step 2: Training Loop\n",
    "\n",
    "Write a training loop, which takes a model (instance of NERNet), number of epochs to train on, and the train&dev datasets.  \n",
    "\n",
    "The function will return the `loss` and `accuracy` durring training.  \n",
    "(If you're using a different/additional metrics, return them too)\n",
    "\n",
    "The loss is always CrossEntropyLoss and the optimizer is always Adam.\n",
    "Make sure to use `tqdm` while iterating on `n_epochs`.\n"
   ]
  },
  {
   "cell_type": "code",
   "metadata": {
    "id": "avkHfjT3k0HM",
    "ExecuteTime": {
     "end_time": "2024-06-11T12:24:53.037195Z",
     "start_time": "2024-06-11T12:24:53.030028Z"
    }
   },
   "source": [
    "def train_loop(model: NERNet, n_epochs: int, dataloader_train, dataloader_dev):\n",
    "  \"\"\"\n",
    "  Train a model.\n",
    "  :param model: model instance\n",
    "  :param n_epochs: number of epochs to train on\n",
    "  :param dataloader_train: train dataloader\n",
    "  :param dataloader_dev: dev dataloader\n",
    "  :return: loss and accuracy during training\n",
    "  \"\"\"\n",
    "  # Optimizer (ADAM is a fancy version of SGD)\n",
    "  optimizer = Adam(model.parameters(), lr=0.0001)\n",
    "\n",
    "  # Record\n",
    "  metrics = {'loss': {'train': [], 'dev': []}, 'accuracy': {'train': [], 'dev': []}}\n",
    "\n",
    "  # Move model to device\n",
    "  model.to(DEVICE)\n",
    "\n",
    "  # TO DO ----------------------------------------------------------------------\n",
    "\n",
    "  loss_function = nn.CrossEntropyLoss(ignore_index=0)\n",
    "  \n",
    "  for epoch in tqdm(range(n_epochs)):\n",
    "    model.train()\n",
    "    train_loss = 0.0\n",
    "    train_correct = 0\n",
    "    train_total = 0\n",
    "    for sentences, tags in dataloader_train:\n",
    "      sentences = sentences.to(DEVICE)\n",
    "      tags = tags.to(DEVICE)\n",
    "      optimizer.zero_grad()\n",
    "      tags_scores = model(sentences)\n",
    "      tags_scores = tags_scores.view(-1, vocab.n_tags)\n",
    "      tags = tags.view(-1)\n",
    "      loss = loss_function(tags_scores, tags)\n",
    "      loss.backward()\n",
    "      optimizer.step()\n",
    "      \n",
    "      train_loss += loss.item()\n",
    "      train_correct += ((tags_scores.argmax(dim=-1) == tags) * (tags != 0)).sum().item()\n",
    "      train_total += (tags != 0).sum().item()\n",
    "    \n",
    "    train_loss /= len(dataloader_train)\n",
    "    train_accuracy = train_correct / train_total\n",
    "    metrics['loss']['train'].append(train_loss)\n",
    "    metrics['accuracy']['train'].append(train_accuracy)\n",
    "      \n",
    "    dev_loss = 0.0\n",
    "    dev_correct = 0\n",
    "    dev_total = 0\n",
    "    model.eval()\n",
    "    with th.no_grad():\n",
    "        for sentences, tags in dataloader_dev:\n",
    "            sentences = sentences.to(DEVICE)\n",
    "            tags = tags.to(DEVICE)\n",
    "            tags_scores = model(sentences)\n",
    "            tags_scores = tags_scores.view(-1, vocab.n_tags)\n",
    "            tags = tags.view(-1)\n",
    "            print(tags_scores.shape, tags.shape)\n",
    "            loss = loss_function(tags_scores, tags)\n",
    "            dev_loss += loss.item()\n",
    "            dev_correct += ((tags_scores.argmax(dim=-1) == tags) * (tags != 0)).sum().item()\n",
    "            dev_total += (tags != 0).sum().item()\n",
    "    dev_loss /= len(dataloader_dev)\n",
    "    dev_accuracy = dev_correct / dev_total\n",
    "    metrics['loss']['dev'].append(dev_loss)\n",
    "    metrics['accuracy']['dev'].append(dev_accuracy)\n",
    "      # TO DO ----------------------------------------------------------------------\n",
    "\n",
    "  # TO DO ----------------------------------------------------------------------\n",
    "\n",
    "  return metrics"
   ],
   "outputs": [],
   "execution_count": 56
  },
  {
   "cell_type": "code",
   "metadata": {
    "colab": {
     "base_uri": "https://localhost:8080/",
     "height": 1000,
     "referenced_widgets": [
      "dd8c51d883944ae2858520c7fde2df77",
      "f3b80725b8a7446f9c0980ab76746045",
      "cfc402b4cc07460d8f616b97f0d335d2",
      "587efeca07d94582812c4d26f1e8657b",
      "a332f58e50f44b0a99c949e2368498ad",
      "74500668afd24299bc6885cbdfe086cb",
      "4556d8b13c0c488891ad64fb3d0adb27",
      "01ddd38e87374d00baae46d3679b67e3",
      "fdfed65b2e32458e8bed4daa4cab4d85",
      "51275d5d82bc4e809af74eb69a76f125",
      "9698ccf9077c47a88a56977cb8260bd9"
     ]
    },
    "id": "2KC1nYSi18PV",
    "outputId": "6baa9df4-1499-468b-cb9b-95961956b5ea",
    "ExecuteTime": {
     "end_time": "2024-06-11T12:24:37.036143Z",
     "start_time": "2024-06-11T12:24:36.905288Z"
    }
   },
   "source": "metrics = train_loop(model, n_epochs=5, dataloader_train=dl_train, dataloader_dev=dl_dev)",
   "outputs": [
    {
     "data": {
      "text/plain": [
       "  0%|          | 0/5 [00:00<?, ?it/s]"
      ],
      "application/vnd.jupyter.widget-view+json": {
       "version_major": 2,
       "version_minor": 0,
       "model_id": "0c5b96f0b505483b89aca8bbcbd55871"
      }
     },
     "metadata": {},
     "output_type": "display_data"
    },
    {
     "ename": "IndexError",
     "evalue": "Target 7 is out of bounds.",
     "output_type": "error",
     "traceback": [
      "\u001B[0;31m---------------------------------------------------------------------------\u001B[0m",
      "\u001B[0;31mIndexError\u001B[0m                                Traceback (most recent call last)",
      "Cell \u001B[0;32mIn[55], line 1\u001B[0m\n\u001B[0;32m----> 1\u001B[0m metrics \u001B[38;5;241m=\u001B[39m train_loop(model, n_epochs\u001B[38;5;241m=\u001B[39m\u001B[38;5;241m5\u001B[39m, dataloader_train\u001B[38;5;241m=\u001B[39mdl_train, dataloader_dev\u001B[38;5;241m=\u001B[39mdl_dev)\n",
      "Cell \u001B[0;32mIn[54], line 35\u001B[0m, in \u001B[0;36mtrain_loop\u001B[0;34m(model, n_epochs, dataloader_train, dataloader_dev)\u001B[0m\n\u001B[1;32m     32\u001B[0m outputs \u001B[38;5;241m=\u001B[39m model(sentences)\n\u001B[1;32m     33\u001B[0m \u001B[38;5;66;03m# tags_scores = tags_scores.view(-1, vocab.n_tags)\u001B[39;00m\n\u001B[1;32m     34\u001B[0m \u001B[38;5;66;03m# tags = tags.view(-1)\u001B[39;00m\n\u001B[0;32m---> 35\u001B[0m loss \u001B[38;5;241m=\u001B[39m loss_function(outputs\u001B[38;5;241m.\u001B[39mview(\u001B[38;5;241m-\u001B[39m\u001B[38;5;241m1\u001B[39m, outputs\u001B[38;5;241m.\u001B[39mshape[\u001B[38;5;241m-\u001B[39m\u001B[38;5;241m1\u001B[39m]), tags\u001B[38;5;241m.\u001B[39mview(\u001B[38;5;241m-\u001B[39m\u001B[38;5;241m1\u001B[39m))\n\u001B[1;32m     36\u001B[0m loss\u001B[38;5;241m.\u001B[39mbackward()\n\u001B[1;32m     37\u001B[0m optimizer\u001B[38;5;241m.\u001B[39mstep()\n",
      "File \u001B[0;32m~/anaconda3/lib/python3.11/site-packages/torch/nn/modules/module.py:1511\u001B[0m, in \u001B[0;36mModule._wrapped_call_impl\u001B[0;34m(self, *args, **kwargs)\u001B[0m\n\u001B[1;32m   1509\u001B[0m     \u001B[38;5;28;01mreturn\u001B[39;00m \u001B[38;5;28mself\u001B[39m\u001B[38;5;241m.\u001B[39m_compiled_call_impl(\u001B[38;5;241m*\u001B[39margs, \u001B[38;5;241m*\u001B[39m\u001B[38;5;241m*\u001B[39mkwargs)  \u001B[38;5;66;03m# type: ignore[misc]\u001B[39;00m\n\u001B[1;32m   1510\u001B[0m \u001B[38;5;28;01melse\u001B[39;00m:\n\u001B[0;32m-> 1511\u001B[0m     \u001B[38;5;28;01mreturn\u001B[39;00m \u001B[38;5;28mself\u001B[39m\u001B[38;5;241m.\u001B[39m_call_impl(\u001B[38;5;241m*\u001B[39margs, \u001B[38;5;241m*\u001B[39m\u001B[38;5;241m*\u001B[39mkwargs)\n",
      "File \u001B[0;32m~/anaconda3/lib/python3.11/site-packages/torch/nn/modules/module.py:1520\u001B[0m, in \u001B[0;36mModule._call_impl\u001B[0;34m(self, *args, **kwargs)\u001B[0m\n\u001B[1;32m   1515\u001B[0m \u001B[38;5;66;03m# If we don't have any hooks, we want to skip the rest of the logic in\u001B[39;00m\n\u001B[1;32m   1516\u001B[0m \u001B[38;5;66;03m# this function, and just call forward.\u001B[39;00m\n\u001B[1;32m   1517\u001B[0m \u001B[38;5;28;01mif\u001B[39;00m \u001B[38;5;129;01mnot\u001B[39;00m (\u001B[38;5;28mself\u001B[39m\u001B[38;5;241m.\u001B[39m_backward_hooks \u001B[38;5;129;01mor\u001B[39;00m \u001B[38;5;28mself\u001B[39m\u001B[38;5;241m.\u001B[39m_backward_pre_hooks \u001B[38;5;129;01mor\u001B[39;00m \u001B[38;5;28mself\u001B[39m\u001B[38;5;241m.\u001B[39m_forward_hooks \u001B[38;5;129;01mor\u001B[39;00m \u001B[38;5;28mself\u001B[39m\u001B[38;5;241m.\u001B[39m_forward_pre_hooks\n\u001B[1;32m   1518\u001B[0m         \u001B[38;5;129;01mor\u001B[39;00m _global_backward_pre_hooks \u001B[38;5;129;01mor\u001B[39;00m _global_backward_hooks\n\u001B[1;32m   1519\u001B[0m         \u001B[38;5;129;01mor\u001B[39;00m _global_forward_hooks \u001B[38;5;129;01mor\u001B[39;00m _global_forward_pre_hooks):\n\u001B[0;32m-> 1520\u001B[0m     \u001B[38;5;28;01mreturn\u001B[39;00m forward_call(\u001B[38;5;241m*\u001B[39margs, \u001B[38;5;241m*\u001B[39m\u001B[38;5;241m*\u001B[39mkwargs)\n\u001B[1;32m   1522\u001B[0m \u001B[38;5;28;01mtry\u001B[39;00m:\n\u001B[1;32m   1523\u001B[0m     result \u001B[38;5;241m=\u001B[39m \u001B[38;5;28;01mNone\u001B[39;00m\n",
      "File \u001B[0;32m~/anaconda3/lib/python3.11/site-packages/torch/nn/modules/loss.py:1179\u001B[0m, in \u001B[0;36mCrossEntropyLoss.forward\u001B[0;34m(self, input, target)\u001B[0m\n\u001B[1;32m   1178\u001B[0m \u001B[38;5;28;01mdef\u001B[39;00m \u001B[38;5;21mforward\u001B[39m(\u001B[38;5;28mself\u001B[39m, \u001B[38;5;28minput\u001B[39m: Tensor, target: Tensor) \u001B[38;5;241m-\u001B[39m\u001B[38;5;241m>\u001B[39m Tensor:\n\u001B[0;32m-> 1179\u001B[0m     \u001B[38;5;28;01mreturn\u001B[39;00m F\u001B[38;5;241m.\u001B[39mcross_entropy(\u001B[38;5;28minput\u001B[39m, target, weight\u001B[38;5;241m=\u001B[39m\u001B[38;5;28mself\u001B[39m\u001B[38;5;241m.\u001B[39mweight,\n\u001B[1;32m   1180\u001B[0m                            ignore_index\u001B[38;5;241m=\u001B[39m\u001B[38;5;28mself\u001B[39m\u001B[38;5;241m.\u001B[39mignore_index, reduction\u001B[38;5;241m=\u001B[39m\u001B[38;5;28mself\u001B[39m\u001B[38;5;241m.\u001B[39mreduction,\n\u001B[1;32m   1181\u001B[0m                            label_smoothing\u001B[38;5;241m=\u001B[39m\u001B[38;5;28mself\u001B[39m\u001B[38;5;241m.\u001B[39mlabel_smoothing)\n",
      "File \u001B[0;32m~/anaconda3/lib/python3.11/site-packages/torch/nn/functional.py:3059\u001B[0m, in \u001B[0;36mcross_entropy\u001B[0;34m(input, target, weight, size_average, ignore_index, reduce, reduction, label_smoothing)\u001B[0m\n\u001B[1;32m   3057\u001B[0m \u001B[38;5;28;01mif\u001B[39;00m size_average \u001B[38;5;129;01mis\u001B[39;00m \u001B[38;5;129;01mnot\u001B[39;00m \u001B[38;5;28;01mNone\u001B[39;00m \u001B[38;5;129;01mor\u001B[39;00m reduce \u001B[38;5;129;01mis\u001B[39;00m \u001B[38;5;129;01mnot\u001B[39;00m \u001B[38;5;28;01mNone\u001B[39;00m:\n\u001B[1;32m   3058\u001B[0m     reduction \u001B[38;5;241m=\u001B[39m _Reduction\u001B[38;5;241m.\u001B[39mlegacy_get_string(size_average, reduce)\n\u001B[0;32m-> 3059\u001B[0m \u001B[38;5;28;01mreturn\u001B[39;00m torch\u001B[38;5;241m.\u001B[39m_C\u001B[38;5;241m.\u001B[39m_nn\u001B[38;5;241m.\u001B[39mcross_entropy_loss(\u001B[38;5;28minput\u001B[39m, target, weight, _Reduction\u001B[38;5;241m.\u001B[39mget_enum(reduction), ignore_index, label_smoothing)\n",
      "\u001B[0;31mIndexError\u001B[0m: Target 7 is out of bounds."
     ]
    }
   ],
   "execution_count": 55
  },
  {
   "cell_type": "markdown",
   "metadata": {
    "id": "T9C9su31_r7F"
   },
   "source": [
    "<br><br><br><br><br><br>"
   ]
  },
  {
   "metadata": {},
   "cell_type": "code",
   "source": [
    "# show the loss and accuracy during training and dev in a plot\n",
    "plt.figure(figsize=(12, 6))\n",
    "plt.subplot(1, 2, 1)\n",
    "plt.plot(metrics['loss']['train'], label='Train')\n",
    "plt.plot(metrics['loss']['dev'], label='Dev')\n",
    "plt.title('Loss')\n",
    "plt.legend()\n",
    "\n",
    "plt.subplot(1, 2, 2)\n",
    "plt.plot(metrics['accuracy']['train'], label='Train')\n",
    "plt.plot(metrics['accuracy']['dev'], label='Dev')\n",
    "plt.title('Accuracy')\n",
    "plt.legend()\n",
    "plt.show()"
   ],
   "outputs": [],
   "execution_count": null
  },
  {
   "cell_type": "markdown",
   "metadata": {
    "id": "OqSMEZDK9OPY"
   },
   "source": [
    "# Part 3 - Evaluation"
   ]
  },
  {
   "cell_type": "markdown",
   "metadata": {
    "id": "baN1c_B7lTjb"
   },
   "source": [
    "\n",
    "## Step 1: Evaluation Function\n",
    "\n",
    "Write an evaluation loop for a trained model using the dev and test datasets. This function will print the `Recall`, `Precision`, and `F1` scores and plot a `Confusion Matrix`.\n",
    "\n",
    "Perform this evaluation twice:\n",
    "1. For all labels (7 labels in total).\n",
    "2. For all labels except \"O\" (6 labels in total)."
   ]
  },
  {
   "cell_type": "markdown",
   "metadata": {
    "id": "K6MhtYgh7hDO"
   },
   "source": [
    "## Metrics and Display\n",
    "\n",
    "### Metrics\n",
    "- **Recall**: True Positive Rate (TPR), also known as Recall.\n",
    "- **Precision**: The opposite of False Positive Rate (FPR), also known as Precision.\n",
    "- **F1 Score**: The harmonic mean of Precision and Recall.\n",
    "\n",
    "*Note*: For all these metrics, use **weighted** averaging:\n",
    "Calculate metrics for each label, and find their average weighted by support. Refer to the [sklearn documentation](https://scikit-learn.org/stable/modules/generated/sklearn.metrics.precision_recall_fscore_support.html#sklearn.metrics.precision_recall_fscore_support) for more details.\n",
    "\n",
    "### Display\n",
    "1. Print the `Recall`, `Precision`, and `F1` scores in a tabulated format.\n",
    "2. Display a `Confusion Matrix` plot:\n",
    "   - Rows represent the predicted labels.\n",
    "   - Columns represent the true labels.\n",
    "   - Include a title for the plot, axis names, and the names of the tags on the X-axis."
   ]
  },
  {
   "cell_type": "code",
   "metadata": {
    "id": "iyQAjGaqmd8U"
   },
   "source": [
    "def evaluate(model: NERNet, title: str, dataloader: DataLoader, vocab: Vocab):\n",
    "  \"\"\"\n",
    "  Evaluate a trained model on the given dataset.\n",
    "  :param model: model instance\n",
    "  :param title: title for the plot\n",
    "  :param dataloader: dataloader\n",
    "  :param vocab: Vocab instance\n",
    "  :return: Dictionary of evaluation results\n",
    "  \"\"\"\n",
    "    \n",
    "  results = {}\n",
    "  \n",
    "  # TO DO ----------------------------------------------------------------------\n",
    "  \n",
    "  model.eval()\n",
    "  y_true = []\n",
    "  y_pred = []\n",
    "  y_true_wo_o = []\n",
    "  y_pred_wo_o = []\n",
    "  for sentences, tags in dataloader:\n",
    "    sentences = sentences.to(DEVICE)\n",
    "    tags = tags.to(DEVICE)\n",
    "    tags_scores = model(sentences)\n",
    "    _, predicted = th.max(tags_scores, 2)\n",
    "    for i, tag in enumerate(tags.view(-1).tolist()):\n",
    "      if tag != 0:\n",
    "        y_true.append(tag)\n",
    "        y_pred.append(predicted.view(-1).tolist()[i])\n",
    "        if vocab.id2tag[tag] != 'O':\n",
    "          y_true_wo_o.append(tag)\n",
    "          y_pred_wo_o.append(predicted.view(-1).tolist()[i])\n",
    "  \n",
    "  results_values_with_o = precision_recall_fscore_support(y_true, y_pred, average='weighted')\n",
    "  confusion_with_o = confusion_matrix(y_true, y_pred)\n",
    "  plot_labels = ['__pad__'] + [tag for tag in vocab.id2tag.values()]\n",
    "  plt.figure(figsize=(10, 10))\n",
    "  sns.heatmap(confusion_with_o, annot=True, fmt='d', xticklabels=plot_labels, yticklabels=plot_labels)\n",
    "  plt.title(title + \" - All Labels\")\n",
    "  plt.ylabel('True Label')\n",
    "  plt.xlabel('Predicted Label')\n",
    "  plt.show()\n",
    "  \n",
    "  results_values_wo_o = precision_recall_fscore_support(y_true_wo_o, y_pred_wo_o, average='weighted')\n",
    "  confusion_wo_o = confusion_matrix(y_true_wo_o, y_pred_wo_o)\n",
    "\n",
    "  plt.figure(figsize=(10, 10))\n",
    "  sns.heatmap(confusion_wo_o, annot=True, fmt='d', xticklabels=plot_labels, yticklabels=plot_labels)\n",
    "  plt.title(title + \" - Without 'O' Label\")\n",
    "  plt.ylabel('True Label')\n",
    "  plt.xlabel('Predicted Label')\n",
    "  plt.show()\n",
    "  \n",
    "  \n",
    "  results['RECALL'] = results_values_with_o[0]\n",
    "  results['PERCISION'] = results_values_with_o[1]\n",
    "  results['F1'] = results_values_with_o[2]\n",
    "  results['RECALL_WO_O'] = results_values_wo_o[0]\n",
    "  results['PERCISION_WO_O'] = results_values_wo_o[1]\n",
    "  results['F1_WO_O'] = results_values_wo_o[2]\n",
    "# TO DO ----------------------------------------------------------------------\n",
    "  return results"
   ],
   "outputs": [],
   "execution_count": null
  },
  {
   "metadata": {},
   "cell_type": "code",
   "source": "results_dev = evaluate(model, 'Dev Set', dl_dev, vocab)",
   "outputs": [],
   "execution_count": null
  },
  {
   "cell_type": "markdown",
   "metadata": {
    "id": "trn5-50FyGoF"
   },
   "source": [
    "## Step 2: Train & Evaluate on Dev Set"
   ]
  },
  {
   "cell_type": "markdown",
   "metadata": {
    "id": "LQSXqWNOmqG4"
   },
   "source": [
    "Train and evaluate (on the dev set) a few models, all with `embedding_size=300` and `N_EPOCHS=5` (for fairness and computational reasons), and with the following hyper parameters (you may use that as captions for the models as well):\n",
    "\n",
    "- Model 1: (hidden_size: 500, n_layers: 1, directions: 1)\n",
    "- Model 2: (hidden_size: 500, n_layers: 2, directions: 1)\n",
    "- Model 3: (hidden_size: 500, n_layers: 3, directions: 1)\n",
    "- Model 4: (hidden_size: 500, n_layers: 1, directions: 2)\n",
    "- Model 5: (hidden_size: 500, n_layers: 2, directions: 2)\n",
    "- Model 6: (hidden_size: 500, n_layers: 3, directions: 2)\n",
    "- Model 7: (hidden_size: 800, n_layers: 1, directions: 2)\n",
    "- Model 8: (hidden_size: 800, n_layers: 2, directions: 2)\n",
    "- Model 9: (hidden_size: 800, n_layers: 3, directions: 2)\n",
    "\n",
    "\n"
   ]
  },
  {
   "cell_type": "code",
   "metadata": {
    "id": "U3RcWmNAsoTj"
   },
   "source": [
    "N_EPOCHS = 5\n",
    "EMB_DIM = 300"
   ],
   "outputs": [],
   "execution_count": null
  },
  {
   "cell_type": "markdown",
   "metadata": {
    "id": "OCaaeKV2CZF-"
   },
   "source": [
    "Here is an example (random numbers) of the display of the results):"
   ]
  },
  {
   "cell_type": "code",
   "metadata": {
    "colab": {
     "base_uri": "https://localhost:8080/"
    },
    "id": "Im49dRJeCjdv",
    "outputId": "ab1ac65b-bd21-441a-9058-d4704d66daef"
   },
   "source": [
    "# Example:\n",
    "results_acc = np.random.rand(9, 10)\n",
    "columns = ['N_MODEL','HIDDEN_SIZE','N_LAYERS','DIRECTIONS','RECALL','PERCISION','F1','RECALL_WO_O','PERCISION_WO_O','F1_WO_O']\n",
    "df = pd.DataFrame(results_acc, columns=columns)\n",
    "df.N_MODEL = [f'model_{n}' for n in range(1,10)]\n",
    "print(tabulate(df, headers='keys', tablefmt='psql',floatfmt=\".4f\"))"
   ],
   "outputs": [],
   "execution_count": null
  },
  {
   "cell_type": "code",
   "metadata": {
    "colab": {
     "base_uri": "https://localhost:8080/",
     "height": 1000
    },
    "id": "MWJREQ236dzV",
    "outputId": "324df2e8-f677-4235-fb61-50724ddf0ef5"
   },
   "source": [
    "# Define models with their hyperparameters\n",
    "models = {\n",
    "  'Model1': {'embedding_size': EMB_DIM, 'hidden_size': 500, 'n_layers': 1, 'directions': 1},\n",
    "  'Model2': {'embedding_size': EMB_DIM, 'hidden_size': 500, 'n_layers': 2, 'directions': 1},\n",
    "  'Model3': {'embedding_size': EMB_DIM, 'hidden_size': 500, 'n_layers': 3, 'directions': 1},\n",
    "  'Model4': {'embedding_size': EMB_DIM, 'hidden_size': 500, 'n_layers': 1, 'directions': 2},\n",
    "  'Model5': {'embedding_size': EMB_DIM, 'hidden_size': 500, 'n_layers': 2, 'directions': 2},\n",
    "  'Model6': {'embedding_size': EMB_DIM, 'hidden_size': 500, 'n_layers': 3, 'directions': 2},\n",
    "  'Model7': {'embedding_size': EMB_DIM, 'hidden_size': 800, 'n_layers': 1, 'directions': 2},\n",
    "  'Model8': {'embedding_size': EMB_DIM, 'hidden_size': 800, 'n_layers': 2, 'directions': 2},\n",
    "  'Model9': {'embedding_size': EMB_DIM, 'hidden_size': 800, 'n_layers': 3, 'directions': 2},\n",
    "}   \n",
    "\n",
    "# TO DO ----------------------------------------------------------------------\n",
    "def evaluate_models(data_loader):\n",
    "    results = pd.DataFrame(columns=columns)\n",
    "    for model_name, model_cfg in models.items():\n",
    "        model = NERNet(input_size=vocab.n_words,output_size=vocab.n_tags, **model_cfg)\n",
    "        model.to(DEVICE)\n",
    "        metrics = train_loop(model, n_epochs=N_EPOCHS, dataloader_train=dl_train, dataloader_dev=dl_dev)\n",
    "        curr_results = evaluate(model, model_name, data_loader, vocab)\n",
    "        results = pd.concat([results, pd.DataFrame({\n",
    "            \"N_MODEL\": model_name,\n",
    "            \"HIDDEN_SIZE\": model_cfg['hidden_size'],\n",
    "            \"N_LAYERS\": model_cfg['n_layers'],\n",
    "            \"DIRECTIONS\": model_cfg['directions'],\n",
    "            \"RECALL\": curr_results['RECALL'],\n",
    "            \"PERCISION\": curr_results['PERCISION'],\n",
    "            \"F1\": curr_results['F1'],\n",
    "            \"RECALL_WO_O\": curr_results['RECALL_WO_O'],\n",
    "            \"PERCISION_WO_O\": curr_results['PERCISION_WO_O'],\n",
    "            \"F1_WO_O\": curr_results['F1_WO_O']\n",
    "            }, index=[model_name])])\n",
    "    return results.reset_index(drop=True)\n",
    "\n",
    "\n",
    "results_dev = evaluate_models(dl_dev)\n",
    "# TO DO ----------------------------------------------------------------------\n",
    "\n",
    "# Print results in tabulated format\n",
    "print(tabulate(results_dev, headers='keys', tablefmt='psql', floatfmt=\".4f\"))"
   ],
   "outputs": [],
   "execution_count": null
  },
  {
   "cell_type": "markdown",
   "metadata": {
    "id": "U4o5joZgA1YE"
   },
   "source": [
    "## Step 3: Evaluate on Test Set\n",
    "Evaluate your models on the test set and save the results as a CSV. Add this file to your repo for submission."
   ]
  },
  {
   "cell_type": "code",
   "metadata": {
    "colab": {
     "base_uri": "https://localhost:8080/",
     "height": 1000
    },
    "id": "gTNmBU6hycZl",
    "outputId": "927f1a50-7c13-4239-efa3-44010dc32eb1"
   },
   "source": [
    "results = pd.DataFrame(columns=columns)\n",
    "file_name = \"NER_results.csv\"\n",
    "# TO DO ----------------------------------------------------------------------\n",
    "results = evaluate_models(dl_test)\n",
    "results.to_csv(file_name, index=False)\n",
    "# TO DO ----------------------------------------------------------------------\n",
    "print(tabulate(results, headers='keys', tablefmt='psql',floatfmt=\".4f\"))\n"
   ],
   "outputs": [],
   "execution_count": null
  },
  {
   "cell_type": "markdown",
   "metadata": {
    "id": "8Y4U4eHmShw8"
   },
   "source": [
    "## Step 4 - best model\n",
    "Decide which model performs the best, write its configuration, train it for 5 more epochs and evaluate it on the test set."
   ]
  },
  {
   "cell_type": "code",
   "metadata": {
    "colab": {
     "base_uri": "https://localhost:8080/",
     "height": 1000
    },
    "id": "M3TnKYqmSvds",
    "outputId": "96a3fd41-c10c-466c-b685-a37896f68c8a"
   },
   "source": [
    "best_model_cfg = {'embedding_size':EMB_DIM, 'hidden_size': -1, 'n_layers': -1, 'directions': -1}\n",
    "# TO DO ----------------------------------------------------------------------\n",
    "best_model_row = results.loc[results['F1'].idxmax()]\n",
    "best_model_cfg ={'embedding_size': EMB_DIM, 'hidden_size': best_model_row['HIDDEN_SIZE'], 'n_layers': best_model_row['N_LAYERS'], 'directions': best_model_row['DIRECTIONS']}\n",
    "best_model = NERNet(input_size=vocab.n_words, embedding_size=EMB_DIM, hidden_size=best_model_cfg['hidden_size'], output_size=vocab.n_tags, n_layers=best_model_cfg['n_layers'], directions=best_model_cfg['directions'])\n",
    "best_model.to(DEVICE)\n",
    "metrics = train_loop(best_model, n_epochs=N_EPOCHS + 5, dataloader_train=dl_train, dataloader_dev=dl_dev)\n",
    "results_test = evaluate(best_model, 'Test Set', dl_test, vocab)\n",
    "# TO DO ----------------------------------------------------------------------"
   ],
   "outputs": [],
   "execution_count": null
  },
  {
   "cell_type": "markdown",
   "metadata": {
    "id": "rsCfk8caB3iU"
   },
   "source": [
    "<br><br><br><br><br>"
   ]
  },
  {
   "cell_type": "markdown",
   "metadata": {
    "id": "nF_jrCkpCVUD"
   },
   "source": [
    "# Part 4 - Pretrained Embeddings"
   ]
  },
  {
   "cell_type": "markdown",
   "metadata": {
    "id": "UM74r0_8nk5s"
   },
   "source": [
    "\n",
    "\n",
    "To prepare for this task, please read [this discussion](https://discuss.pytorch.org/t/can-we-use-pre-trained-word-embeddings-for-weight-initialization-in-nn-embedding/1222).\n",
    "\n",
    "**TIP**: Ensure that the vectors are aligned with the IDs in your vocabulary. In other words, make sure that the word with ID 0 corresponds to the first vector in the GloVe matrix used to initialize `nn.Embedding`.\n",
    "\n"
   ]
  },
  {
   "cell_type": "markdown",
   "metadata": {
    "id": "A6rrSb-bFoTa"
   },
   "source": [
    "## Step 1: Get Data"
   ]
  },
  {
   "cell_type": "markdown",
   "metadata": {
    "id": "dscQwqxvBP5-"
   },
   "source": [
    "\n",
    "\n",
    "Download the GloVe embeddings from [this link](https://nlp.stanford.edu/projects/glove/). Use the 300-dimensional vectors from `glove.6B.zip`.\n",
    "\n"
   ]
  },
  {
   "cell_type": "code",
   "metadata": {
    "colab": {
     "base_uri": "https://localhost:8080/"
    },
    "id": "gbY3bBiH_9E8",
    "outputId": "60134955-2398-4cce-d3bd-e67a784a13cb"
   },
   "source": [
    "# TO DO ----------------------------------------------------------------------\n",
    "\n",
    "# !wget -q --no-check-certificate 'https://nlp.stanford.edu/data/glove.6B.zip' -O glove.6B.zip\n",
    "# mac version:\n",
    "!curl -L -o glove.6B.zip 'https://nlp.stanford.edu/data/glove.6B.zip'\n",
    "\n",
    "\n",
    "!unzip -q glove.6B.zip\n",
    "\n",
    "# TO DO ----------------------------------------------------------------------"
   ],
   "outputs": [],
   "execution_count": null
  },
  {
   "cell_type": "markdown",
   "metadata": {
    "id": "eBLEK9R3Fxye"
   },
   "source": [
    "## Step 2: Inject Embeddings"
   ]
  },
  {
   "cell_type": "markdown",
   "metadata": {
    "id": "xH8ybhqY_8US"
   },
   "source": [
    "Then intialize the `nn.Embedding` module in your `NERNet` with these embeddings, so that you can start your training with pre-trained vectors."
   ]
  },
  {
   "cell_type": "code",
   "metadata": {
    "id": "OXSEIjfe9DSy"
   },
   "source": [
    "def get_emb_matrix(filepath: str, vocab: Vocab) -> np.ndarray:\n",
    "  emb_matrix = np.zeros((len(vocab.word2id), 300))\n",
    "  # TO DO ----------------------------------------------------------------------\n",
    "\n",
    "  # TO DO ----------------------------------------------------------------------\n",
    "  return emb_matrix"
   ],
   "outputs": [],
   "execution_count": null
  },
  {
   "cell_type": "code",
   "metadata": {
    "id": "I56mqREnVRey"
   },
   "source": [
    "def initialize_from_pretrained_emb(model: NERNet, emb_matrix: np.ndarray):\n",
    "  \"\"\"\n",
    "  Inject the pretrained embeddings into the model.\n",
    "  :param model: model instance\n",
    "  :param emb_matrix: pretrained embeddings\n",
    "  \"\"\"\n",
    "  # TO DO ----------------------------------------------------------------------\n",
    "\n",
    "  # TO DO ----------------------------------------------------------------------"
   ],
   "outputs": [],
   "execution_count": null
  },
  {
   "cell_type": "code",
   "metadata": {
    "id": "lf0byP9y_9jG"
   },
   "source": [
    "# Read embeddings and inject them to a model\n",
    "emb_file = 'glove.6B.300d.txt'\n",
    "emb_matrix = get_emb_matrix(emb_file, vocab)\n",
    "ner_glove = NERNet(input_size=VOCAB_SIZE, embedding_size=EMB_DIM, hidden_size=500, output_size=NUM_TAGS, n_layers=1, directions=1)\n",
    "initialize_from_pretrained_emb(ner_glove, emb_matrix)"
   ],
   "outputs": [],
   "execution_count": null
  },
  {
   "cell_type": "markdown",
   "metadata": {
    "id": "JElogtlHF4DN"
   },
   "source": [
    "## Step 3: Evaluate on Test Set"
   ]
  },
  {
   "cell_type": "markdown",
   "metadata": {
    "id": "Obm_WN4_ALmM"
   },
   "source": [
    "Same as the evaluation process before, please display:\n",
    "\n",
    "1. Print a `RECALL-PERCISION-F1` scores in a tabulate format.\n",
    "2. Display a `confusion matrix` plot: where the predicted labels are the rows, and the true labels are the columns.\n",
    "\n",
    "Make sure to use the title for the plot, axis names, and the names of the tags on the X-axis.\n",
    "\n",
    "Make sure to download and upload this CSV as well."
   ]
  },
  {
   "cell_type": "code",
   "metadata": {
    "id": "c7Xw3h6mAhRw"
   },
   "source": [
    "results = pd.DataFrame(columns=columns)\n",
    "file_name = \"NER_results_glove.csv\"\n",
    "# TO DO ----------------------------------------------------------------------\n",
    "\n",
    "# TO DO ----------------------------------------------------------------------\n",
    "print(tabulate(results, headers='keys', tablefmt='psql',floatfmt=\".4f\"))"
   ],
   "outputs": [],
   "execution_count": null
  },
  {
   "cell_type": "markdown",
   "metadata": {
    "id": "c5XrhAdNXShg"
   },
   "source": [
    "## Step 4 - best model\n",
    "Decide which model performs the best, write its configuration, train it for 5 more epochs and evaluate it on the test set."
   ]
  },
  {
   "cell_type": "code",
   "metadata": {
    "id": "QHI_ECNwXR-7"
   },
   "source": [
    "best_model_glove_cfg = {'embedding_size':EMB_DIM, 'hidden_size': -1, 'n_layers': -1, 'directions': -1}\n",
    "# TO DO ----------------------------------------------------------------------\n",
    "\n",
    "# TO DO ----------------------------------------------------------------------"
   ],
   "outputs": [],
   "execution_count": null
  },
  {
   "cell_type": "markdown",
   "metadata": {
    "id": "8cUiLd_gCRO_"
   },
   "source": [
    "# Testing\n",
    "Copy the content of the **tests.py** file from the repo and paste below. This will create the results.json file and download it to your machine."
   ]
  },
  {
   "cell_type": "code",
   "metadata": {
    "id": "UMVrbY0SCRja"
   },
   "source": [
    "import json\n",
    "####################\n",
    "# PLACE TESTS HERE #\n",
    "train = read_data(\"data/train.txt\")\n",
    "dev = read_data(\"data/dev.txt\")\n",
    "test_set = read_data(\"data/test.txt\")\n",
    "def test_read_data():\n",
    "    result = {\n",
    "        'lengths': (len(train), len(dev), len(test_set)),\n",
    "    }\n",
    "    return result\n",
    "\n",
    "vocab = Vocab(train)\n",
    "def test_vocab():\n",
    "    sent = vocab.index_words([\"I\", \"am\", \"Spongebob\"])\n",
    "    return {\n",
    "        'length': vocab.n_words,\n",
    "        'tag2id_length': len(vocab.tag2id),\n",
    "        \"Spongebob\": sent[2]\n",
    "    }\n",
    "\n",
    "train_sequences = prepare_data(train, vocab)\n",
    "dev_sequences = prepare_data(dev, vocab)\n",
    "test_sequences = prepare_data(test_set, vocab)\n",
    "\n",
    "def test_count_oov():\n",
    "    return {\n",
    "        'dev_oov': count_oov(dev_sequences),\n",
    "        'test_oov': count_oov(test_sequences)\n",
    "    }\n",
    "\n",
    "BATCH_SIZE = 16\n",
    "dl_train = prepare_data_loader(train_sequences, batch_size=BATCH_SIZE)\n",
    "dl_dev = prepare_data_loader(dev_sequences, batch_size=BATCH_SIZE, train=False)\n",
    "dl_test = prepare_data_loader(test_sequences, batch_size=BATCH_SIZE, train=False)\n",
    "\n",
    "def test_prepare_data_loader():\n",
    "    return {\n",
    "        'lengths': (len(dl_train), len(dl_dev), len(dl_test))\n",
    "    }\n",
    "\n",
    "\n",
    "def test_NERNet():\n",
    "    # Extract best model configuration\n",
    "    hidden_size = best_model_cfg['hidden_size']\n",
    "    n_layers = best_model_cfg['n_layers']\n",
    "    directions = best_model_cfg['directions']\n",
    "\n",
    "    # Create model\n",
    "    best_model = NERNet(vocab.n_words, embedding_size=300, hidden_size=hidden_size, n_layers=n_layers, directions=directions, output_size=vocab.n_tags)\n",
    "    best_model.to(DEVICE)\n",
    "\n",
    "    # Train model and evaluate\n",
    "    _ = train_loop(model, n_epochs=10, dataloader_train=dl_train, dataloader_dev=dl_dev)\n",
    "    results = evaluate(model, title=\"\", dataloader=dl_test, vocab=vocab)\n",
    "\n",
    "    return {\n",
    "        'f1': results['F1'],\n",
    "        'f1_wo_o': results['F1_WO_O'],\n",
    "    }\n",
    "    \n",
    "def test_glove():\n",
    "    # Get embeddings\n",
    "    emb_file = 'glove.6B.300d.txt'\n",
    "    emb_matrix = get_emb_matrix(emb_file, vocab)\n",
    "\n",
    "    # Extract best model configuration\n",
    "    hidden_size = best_model_glove_cfg['hidden_size']\n",
    "    n_layers = best_model_glove_cfg['n_layers']\n",
    "    directions = best_model_glove_cfg['directions']\n",
    "\n",
    "    # Create model\n",
    "    best_model = NERNet(vocab.n_words, embedding_size=300, hidden_size=hidden_size, output_size=vocab.n_tags, n_layers=n_layers, directions=directions)\n",
    "    best_model.to(DEVICE)\n",
    "    initialize_from_pretrained_emb(ner_glove, emb_matrix)\n",
    "\n",
    "    # Train model and evaluate\n",
    "    _ = train_loop(model, n_epochs=10, dataloader_train=dl_train, dataloader_dev=dl_dev)\n",
    "    results = evaluate(model, title=\"\", dataloader=dl_test, vocab=vocab)\n",
    "\n",
    "    return {\n",
    "        'f1': results['F1'],\n",
    "        'f1_wo_o': results['F1_WO_O'],\n",
    "    }\n",
    "\n",
    "TESTS = [\n",
    "    test_read_data,\n",
    "    test_vocab,\n",
    "    test_count_oov,\n",
    "    test_prepare_data_loader,\n",
    "    test_NERNet,\n",
    "    test_glove\n",
    "]\n",
    "\n",
    "# Run tests and save results\n",
    "res = {}\n",
    "for test in TESTS:\n",
    "    try:\n",
    "        cur_res = test()\n",
    "        res.update({test.__name__: cur_res})\n",
    "    except Exception as e:\n",
    "        res.update({test.__name__: repr(e)})\n",
    "\n",
    "with open('results.json', 'w') as f:\n",
    "    json.dump(res, f, indent=2)\n"
   ],
   "outputs": [],
   "execution_count": null
  },
  {
   "metadata": {},
   "cell_type": "code",
   "source": "",
   "outputs": [],
   "execution_count": null
  }
 ],
 "metadata": {
  "colab": {
   "provenance": []
  },
  "kernelspec": {
   "display_name": "Python 3 (ipykernel)",
   "name": "python3",
   "language": "python"
  },
  "language_info": {
   "codemirror_mode": {
    "name": "ipython",
    "version": 3
   },
   "file_extension": ".py",
   "mimetype": "text/x-python",
   "name": "python",
   "nbconvert_exporter": "python",
   "pygments_lexer": "ipython3",
   "version": "3.12.3"
  },
  "widgets": {
   "application/vnd.jupyter.widget-state+json": {
    "01ddd38e87374d00baae46d3679b67e3": {
     "model_module": "@jupyter-widgets/base",
     "model_module_version": "1.2.0",
     "model_name": "LayoutModel",
     "state": {
      "_model_module": "@jupyter-widgets/base",
      "_model_module_version": "1.2.0",
      "_model_name": "LayoutModel",
      "_view_count": null,
      "_view_module": "@jupyter-widgets/base",
      "_view_module_version": "1.2.0",
      "_view_name": "LayoutView",
      "align_content": null,
      "align_items": null,
      "align_self": null,
      "border": null,
      "bottom": null,
      "display": null,
      "flex": null,
      "flex_flow": null,
      "grid_area": null,
      "grid_auto_columns": null,
      "grid_auto_flow": null,
      "grid_auto_rows": null,
      "grid_column": null,
      "grid_gap": null,
      "grid_row": null,
      "grid_template_areas": null,
      "grid_template_columns": null,
      "grid_template_rows": null,
      "height": null,
      "justify_content": null,
      "justify_items": null,
      "left": null,
      "margin": null,
      "max_height": null,
      "max_width": null,
      "min_height": null,
      "min_width": null,
      "object_fit": null,
      "object_position": null,
      "order": null,
      "overflow": null,
      "overflow_x": null,
      "overflow_y": null,
      "padding": null,
      "right": null,
      "top": null,
      "visibility": null,
      "width": null
     }
    },
    "4556d8b13c0c488891ad64fb3d0adb27": {
     "model_module": "@jupyter-widgets/controls",
     "model_module_version": "1.5.0",
     "model_name": "DescriptionStyleModel",
     "state": {
      "_model_module": "@jupyter-widgets/controls",
      "_model_module_version": "1.5.0",
      "_model_name": "DescriptionStyleModel",
      "_view_count": null,
      "_view_module": "@jupyter-widgets/base",
      "_view_module_version": "1.2.0",
      "_view_name": "StyleView",
      "description_width": ""
     }
    },
    "51275d5d82bc4e809af74eb69a76f125": {
     "model_module": "@jupyter-widgets/base",
     "model_module_version": "1.2.0",
     "model_name": "LayoutModel",
     "state": {
      "_model_module": "@jupyter-widgets/base",
      "_model_module_version": "1.2.0",
      "_model_name": "LayoutModel",
      "_view_count": null,
      "_view_module": "@jupyter-widgets/base",
      "_view_module_version": "1.2.0",
      "_view_name": "LayoutView",
      "align_content": null,
      "align_items": null,
      "align_self": null,
      "border": null,
      "bottom": null,
      "display": null,
      "flex": null,
      "flex_flow": null,
      "grid_area": null,
      "grid_auto_columns": null,
      "grid_auto_flow": null,
      "grid_auto_rows": null,
      "grid_column": null,
      "grid_gap": null,
      "grid_row": null,
      "grid_template_areas": null,
      "grid_template_columns": null,
      "grid_template_rows": null,
      "height": null,
      "justify_content": null,
      "justify_items": null,
      "left": null,
      "margin": null,
      "max_height": null,
      "max_width": null,
      "min_height": null,
      "min_width": null,
      "object_fit": null,
      "object_position": null,
      "order": null,
      "overflow": null,
      "overflow_x": null,
      "overflow_y": null,
      "padding": null,
      "right": null,
      "top": null,
      "visibility": null,
      "width": null
     }
    },
    "587efeca07d94582812c4d26f1e8657b": {
     "model_module": "@jupyter-widgets/controls",
     "model_module_version": "1.5.0",
     "model_name": "HTMLModel",
     "state": {
      "_dom_classes": [],
      "_model_module": "@jupyter-widgets/controls",
      "_model_module_version": "1.5.0",
      "_model_name": "HTMLModel",
      "_view_count": null,
      "_view_module": "@jupyter-widgets/controls",
      "_view_module_version": "1.5.0",
      "_view_name": "HTMLView",
      "description": "",
      "description_tooltip": null,
      "layout": "IPY_MODEL_51275d5d82bc4e809af74eb69a76f125",
      "placeholder": "​",
      "style": "IPY_MODEL_9698ccf9077c47a88a56977cb8260bd9",
      "value": " 0/5 [00:00&lt;?, ?it/s]"
     }
    },
    "74500668afd24299bc6885cbdfe086cb": {
     "model_module": "@jupyter-widgets/base",
     "model_module_version": "1.2.0",
     "model_name": "LayoutModel",
     "state": {
      "_model_module": "@jupyter-widgets/base",
      "_model_module_version": "1.2.0",
      "_model_name": "LayoutModel",
      "_view_count": null,
      "_view_module": "@jupyter-widgets/base",
      "_view_module_version": "1.2.0",
      "_view_name": "LayoutView",
      "align_content": null,
      "align_items": null,
      "align_self": null,
      "border": null,
      "bottom": null,
      "display": null,
      "flex": null,
      "flex_flow": null,
      "grid_area": null,
      "grid_auto_columns": null,
      "grid_auto_flow": null,
      "grid_auto_rows": null,
      "grid_column": null,
      "grid_gap": null,
      "grid_row": null,
      "grid_template_areas": null,
      "grid_template_columns": null,
      "grid_template_rows": null,
      "height": null,
      "justify_content": null,
      "justify_items": null,
      "left": null,
      "margin": null,
      "max_height": null,
      "max_width": null,
      "min_height": null,
      "min_width": null,
      "object_fit": null,
      "object_position": null,
      "order": null,
      "overflow": null,
      "overflow_x": null,
      "overflow_y": null,
      "padding": null,
      "right": null,
      "top": null,
      "visibility": null,
      "width": null
     }
    },
    "9698ccf9077c47a88a56977cb8260bd9": {
     "model_module": "@jupyter-widgets/controls",
     "model_module_version": "1.5.0",
     "model_name": "DescriptionStyleModel",
     "state": {
      "_model_module": "@jupyter-widgets/controls",
      "_model_module_version": "1.5.0",
      "_model_name": "DescriptionStyleModel",
      "_view_count": null,
      "_view_module": "@jupyter-widgets/base",
      "_view_module_version": "1.2.0",
      "_view_name": "StyleView",
      "description_width": ""
     }
    },
    "a332f58e50f44b0a99c949e2368498ad": {
     "model_module": "@jupyter-widgets/base",
     "model_module_version": "1.2.0",
     "model_name": "LayoutModel",
     "state": {
      "_model_module": "@jupyter-widgets/base",
      "_model_module_version": "1.2.0",
      "_model_name": "LayoutModel",
      "_view_count": null,
      "_view_module": "@jupyter-widgets/base",
      "_view_module_version": "1.2.0",
      "_view_name": "LayoutView",
      "align_content": null,
      "align_items": null,
      "align_self": null,
      "border": null,
      "bottom": null,
      "display": null,
      "flex": null,
      "flex_flow": null,
      "grid_area": null,
      "grid_auto_columns": null,
      "grid_auto_flow": null,
      "grid_auto_rows": null,
      "grid_column": null,
      "grid_gap": null,
      "grid_row": null,
      "grid_template_areas": null,
      "grid_template_columns": null,
      "grid_template_rows": null,
      "height": null,
      "justify_content": null,
      "justify_items": null,
      "left": null,
      "margin": null,
      "max_height": null,
      "max_width": null,
      "min_height": null,
      "min_width": null,
      "object_fit": null,
      "object_position": null,
      "order": null,
      "overflow": null,
      "overflow_x": null,
      "overflow_y": null,
      "padding": null,
      "right": null,
      "top": null,
      "visibility": null,
      "width": null
     }
    },
    "cfc402b4cc07460d8f616b97f0d335d2": {
     "model_module": "@jupyter-widgets/controls",
     "model_module_version": "1.5.0",
     "model_name": "FloatProgressModel",
     "state": {
      "_dom_classes": [],
      "_model_module": "@jupyter-widgets/controls",
      "_model_module_version": "1.5.0",
      "_model_name": "FloatProgressModel",
      "_view_count": null,
      "_view_module": "@jupyter-widgets/controls",
      "_view_module_version": "1.5.0",
      "_view_name": "ProgressView",
      "bar_style": "danger",
      "description": "",
      "description_tooltip": null,
      "layout": "IPY_MODEL_01ddd38e87374d00baae46d3679b67e3",
      "max": 5,
      "min": 0,
      "orientation": "horizontal",
      "style": "IPY_MODEL_fdfed65b2e32458e8bed4daa4cab4d85",
      "value": 0
     }
    },
    "dd8c51d883944ae2858520c7fde2df77": {
     "model_module": "@jupyter-widgets/controls",
     "model_module_version": "1.5.0",
     "model_name": "HBoxModel",
     "state": {
      "_dom_classes": [],
      "_model_module": "@jupyter-widgets/controls",
      "_model_module_version": "1.5.0",
      "_model_name": "HBoxModel",
      "_view_count": null,
      "_view_module": "@jupyter-widgets/controls",
      "_view_module_version": "1.5.0",
      "_view_name": "HBoxView",
      "box_style": "",
      "children": [
       "IPY_MODEL_f3b80725b8a7446f9c0980ab76746045",
       "IPY_MODEL_cfc402b4cc07460d8f616b97f0d335d2",
       "IPY_MODEL_587efeca07d94582812c4d26f1e8657b"
      ],
      "layout": "IPY_MODEL_a332f58e50f44b0a99c949e2368498ad"
     }
    },
    "f3b80725b8a7446f9c0980ab76746045": {
     "model_module": "@jupyter-widgets/controls",
     "model_module_version": "1.5.0",
     "model_name": "HTMLModel",
     "state": {
      "_dom_classes": [],
      "_model_module": "@jupyter-widgets/controls",
      "_model_module_version": "1.5.0",
      "_model_name": "HTMLModel",
      "_view_count": null,
      "_view_module": "@jupyter-widgets/controls",
      "_view_module_version": "1.5.0",
      "_view_name": "HTMLView",
      "description": "",
      "description_tooltip": null,
      "layout": "IPY_MODEL_74500668afd24299bc6885cbdfe086cb",
      "placeholder": "​",
      "style": "IPY_MODEL_4556d8b13c0c488891ad64fb3d0adb27",
      "value": "  0%"
     }
    },
    "fdfed65b2e32458e8bed4daa4cab4d85": {
     "model_module": "@jupyter-widgets/controls",
     "model_module_version": "1.5.0",
     "model_name": "ProgressStyleModel",
     "state": {
      "_model_module": "@jupyter-widgets/controls",
      "_model_module_version": "1.5.0",
      "_model_name": "ProgressStyleModel",
      "_view_count": null,
      "_view_module": "@jupyter-widgets/base",
      "_view_module_version": "1.2.0",
      "_view_name": "StyleView",
      "bar_color": null,
      "description_width": ""
     }
    }
   }
  }
 },
 "nbformat": 4,
 "nbformat_minor": 0
}
